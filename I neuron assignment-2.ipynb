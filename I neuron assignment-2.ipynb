{
 "cells": [
  {
   "cell_type": "markdown",
   "metadata": {},
   "source": [
    "**1.What are the two values of the Boolean data type? How do you write them?**\n"
   ]
  },
  {
   "cell_type": "code",
   "execution_count": null,
   "metadata": {},
   "outputs": [],
   "source": [
    "# 1- True    2-False"
   ]
  },
  {
   "cell_type": "markdown",
   "metadata": {},
   "source": [
    "**2. What are the three different types of Boolean operators?**"
   ]
  },
  {
   "cell_type": "code",
   "execution_count": null,
   "metadata": {},
   "outputs": [],
   "source": [
    "# 1- AND   2- OR    3-  NOT"
   ]
  },
  {
   "cell_type": "markdown",
   "metadata": {},
   "source": [
    "**3. Make a list of each Boolean operator's truth tables (i.e. every possible combination of Boolean values for the operator and what it evaluate ).**"
   ]
  },
  {
   "cell_type": "code",
   "execution_count": null,
   "metadata": {},
   "outputs": [],
   "source": [
    "#  T AND T = T               T OR T = T              NOT TRUE = FALSE\n",
    "#   T AND F = F              T OR F = T              NOT FALSE = TRUE\n",
    "#   F AND F = F              F OR F = F\n",
    "#   F AND T = F              F OR T= T"
   ]
  },
  {
   "cell_type": "markdown",
   "metadata": {},
   "source": [
    "**4. What are the values of the following expressions?**"
   ]
  },
  {
   "cell_type": "markdown",
   "metadata": {},
   "source": [
    "**(5 > 4) and (3 == 5)**\n",
    "\n",
    "**not (5 > 4)**\n",
    "\n",
    "**(5 > 4) or (3 == 5)**\n",
    "\n",
    "**not ((5 > 4) or (3 == 5))**\n",
    "\n",
    "**(True and True) and (True == False)**\n",
    "\n",
    "**(not False) or (not True)**\n"
   ]
  },
  {
   "cell_type": "markdown",
   "metadata": {},
   "source": [
    "'''(5 is grater then 4 so its True ) and (3 is not equal to 5 so its false)\n",
    " (True ) and (False) = **False**\n",
    "    \n",
    "not(5 is grater then 4 so its True)\n",
    "not(True) = **False**\n",
    "\n",
    "(5 is grater than 4 so its True) or (3 in not equal to 5 so its False )\n",
    " (True) or (False) = **True**\n",
    "    \n",
    "not((5 is grater then 4 so its True)) or (3 is not equal to 5 so its False) \n",
    "not((True) or (False))\n",
    "not((True)) = **False**\n",
    "\n",
    "(True and True is True ) and (True is equal to False is False)\n",
    "(True) and (False) = **False**\n",
    "\n",
    "(not False is True) or (not True is False)\n",
    "( True) or (False) = **True**'''\n"
   ]
  },
  {
   "cell_type": "markdown",
   "metadata": {},
   "source": [
    "**5. What are the six comparison operators?**"
   ]
  },
  {
   "cell_type": "code",
   "execution_count": null,
   "metadata": {},
   "outputs": [],
   "source": [
    "#  == (cheking equality),  !=(not equals ),  <(less then,  >(greater then),  <=(less then equals to),  and  >=(greater then equals to)."
   ]
  },
  {
   "cell_type": "markdown",
   "metadata": {},
   "source": [
    "**6. How do you tell the difference between the equal to and assignment operators?Describe a condition and when you would use one.**\n"
   ]
  },
  {
   "cell_type": "code",
   "execution_count": null,
   "metadata": {},
   "outputs": [],
   "source": [
    "# == is the equal to operator that compares two values , while = is the assignment operator that stores a value in a variable."
   ]
  },
  {
   "cell_type": "markdown",
   "metadata": {},
   "source": [
    "**7. Identify the three blocks in this code:**\n",
    "\n",
    "**spam = 0**\n",
    "\n",
    "**if spam == 10:**\n",
    "\n",
    "**print('eggs')**\n",
    "\n",
    "**if spam > 5:**\n",
    "\n",
    "**print('bacon')**\n",
    "\n",
    "**else:**\n",
    "\n",
    "**print('ham')**\n",
    "\n",
    "**print('spam')**\n",
    "\n",
    "**print('spam')**\n"
   ]
  },
  {
   "cell_type": "markdown",
   "metadata": {},
   "source": [
    "\"\"\"if spam == 10: --------- 1\n",
    "       print('eggs')\n",
    "if spam > 5:----------------2\n",
    "    print('bacon')\n",
    "else:-----------------------3\n",
    "    print('ham')\n",
    "    print('spam')\"\"\""
   ]
  },
  {
   "cell_type": "markdown",
   "metadata": {},
   "source": [
    "**8. Write code that prints Hello if 1 is stored in spam, prints Howdy if 2 is stored in spam, and prints Greetings! if anything else is stored in spam.**\n",
    "\n"
   ]
  },
  {
   "cell_type": "code",
   "execution_count": 8,
   "metadata": {},
   "outputs": [
    {
     "name": "stdout",
     "output_type": "stream",
     "text": [
      "2\n",
      "Howdy\n"
     ]
    }
   ],
   "source": [
    "spam=int(input())\n",
    "if spam==1:\n",
    "    print('Hello')\n",
    "elif spam==2:\n",
    "    print('Howdy')\n",
    "else:\n",
    "    print('Greetings!')"
   ]
  },
  {
   "cell_type": "markdown",
   "metadata": {},
   "source": [
    "**9.If your programme is stuck in an endless loop, what keys you’ll press?**"
   ]
  },
  {
   "cell_type": "code",
   "execution_count": null,
   "metadata": {},
   "outputs": [],
   "source": [
    "ctrl-c"
   ]
  },
  {
   "cell_type": "markdown",
   "metadata": {},
   "source": [
    "**10. How can you tell the difference between break and continue?**\n"
   ]
  },
  {
   "cell_type": "code",
   "execution_count": null,
   "metadata": {},
   "outputs": [],
   "source": [
    "break - terminate the loop\n",
    "continue - skip the perticular operation and jump to next operation "
   ]
  },
  {
   "cell_type": "markdown",
   "metadata": {},
   "source": [
    "**11. In a for loop, what is the difference between range(10), range(0, 10), and range(0, 10, 1)?**"
   ]
  },
  {
   "cell_type": "code",
   "execution_count": null,
   "metadata": {},
   "outputs": [],
   "source": [
    "range(10) - means starts from 0 till 9 (n-1)\n",
    "range(0,10)- means starts from zero till  9 \n",
    "range(0,10,1)- means start from 0 till 9 with jump of 1 , so all three works same"
   ]
  },
  {
   "cell_type": "markdown",
   "metadata": {},
   "source": [
    "**12. Write a short program that prints the numbers 1 to 10 using a for loop. Then write an equivalent program that prints the numbers 1 to 10 using a while loop.**\n"
   ]
  },
  {
   "cell_type": "code",
   "execution_count": 2,
   "metadata": {},
   "outputs": [
    {
     "name": "stdout",
     "output_type": "stream",
     "text": [
      "1\n",
      "2\n",
      "3\n",
      "4\n",
      "5\n",
      "6\n",
      "7\n",
      "8\n",
      "9\n",
      "10\n",
      "1\n",
      "2\n",
      "3\n",
      "4\n",
      "5\n",
      "6\n",
      "7\n",
      "8\n",
      "9\n",
      "10\n"
     ]
    }
   ],
   "source": [
    " a=10\n",
    "for i in range(1,11):\n",
    "    print(i)\n",
    "\n",
    "    \n",
    "a=1\n",
    "while a<=10:\n",
    "    print(a)\n",
    "    a=a+1\n",
    "\n",
    "    "
   ]
  },
  {
   "cell_type": "markdown",
   "metadata": {},
   "source": [
    "**13. If you had a function named bacon() inside a module named spam, how would you call it after importing spam?**"
   ]
  },
  {
   "cell_type": "code",
   "execution_count": null,
   "metadata": {},
   "outputs": [],
   "source": [
    "spam.bacon()"
   ]
  }
 ],
 "metadata": {
  "kernelspec": {
   "display_name": "Python 3",
   "language": "python",
   "name": "python3"
  },
  "language_info": {
   "codemirror_mode": {
    "name": "ipython",
    "version": 3
   },
   "file_extension": ".py",
   "mimetype": "text/x-python",
   "name": "python",
   "nbconvert_exporter": "python",
   "pygments_lexer": "ipython3",
   "version": "3.8.5"
  }
 },
 "nbformat": 4,
 "nbformat_minor": 4
}
